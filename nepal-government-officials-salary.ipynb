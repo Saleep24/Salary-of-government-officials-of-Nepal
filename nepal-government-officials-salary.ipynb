{
 "cells": [
  {
   "cell_type": "code",
   "execution_count": 1,
   "id": "8c6c2db3",
   "metadata": {
    "_cell_guid": "b1076dfc-b9ad-4769-8c92-a6c4dae69d19",
    "_uuid": "8f2839f25d086af736a60e9eeb907d3b93b6e0e5",
    "execution": {
     "iopub.execute_input": "2024-05-25T21:32:39.255268Z",
     "iopub.status.busy": "2024-05-25T21:32:39.254566Z",
     "iopub.status.idle": "2024-05-25T21:32:40.438517Z",
     "shell.execute_reply": "2024-05-25T21:32:40.437140Z"
    },
    "papermill": {
     "duration": 1.192394,
     "end_time": "2024-05-25T21:32:40.441635",
     "exception": false,
     "start_time": "2024-05-25T21:32:39.249241",
     "status": "completed"
    },
    "tags": []
   },
   "outputs": [],
   "source": [
    "import requests\n",
    "import pandas as pd\n",
    "from bs4 import BeautifulSoup"
   ]
  },
  {
   "cell_type": "code",
   "execution_count": 2,
   "id": "9b28c4b4",
   "metadata": {
    "execution": {
     "iopub.execute_input": "2024-05-25T21:32:40.450932Z",
     "iopub.status.busy": "2024-05-25T21:32:40.450222Z",
     "iopub.status.idle": "2024-05-25T21:32:42.117553Z",
     "shell.execute_reply": "2024-05-25T21:32:42.116174Z"
    },
    "papermill": {
     "duration": 1.675393,
     "end_time": "2024-05-25T21:32:42.120581",
     "exception": false,
     "start_time": "2024-05-25T21:32:40.445188",
     "status": "completed"
    },
    "tags": []
   },
   "outputs": [],
   "source": [
    "url = \"https://edusanjal.com/blog/salary-civil-servants-nepal/\"\n",
    "response = requests.get(url)\n",
    "soup = BeautifulSoup(response.content, 'lxml')"
   ]
  },
  {
   "cell_type": "code",
   "execution_count": 3,
   "id": "dbd0939e",
   "metadata": {
    "execution": {
     "iopub.execute_input": "2024-05-25T21:32:42.128451Z",
     "iopub.status.busy": "2024-05-25T21:32:42.128027Z",
     "iopub.status.idle": "2024-05-25T21:32:42.136000Z",
     "shell.execute_reply": "2024-05-25T21:32:42.134497Z"
    },
    "papermill": {
     "duration": 0.014628,
     "end_time": "2024-05-25T21:32:42.138373",
     "exception": false,
     "start_time": "2024-05-25T21:32:42.123745",
     "status": "completed"
    },
    "tags": []
   },
   "outputs": [],
   "source": [
    "table = soup.find('table')"
   ]
  },
  {
   "cell_type": "code",
   "execution_count": 4,
   "id": "39b3f7dd",
   "metadata": {
    "execution": {
     "iopub.execute_input": "2024-05-25T21:32:42.146080Z",
     "iopub.status.busy": "2024-05-25T21:32:42.145704Z",
     "iopub.status.idle": "2024-05-25T21:32:42.151421Z",
     "shell.execute_reply": "2024-05-25T21:32:42.150183Z"
    },
    "papermill": {
     "duration": 0.012377,
     "end_time": "2024-05-25T21:32:42.153842",
     "exception": false,
     "start_time": "2024-05-25T21:32:42.141465",
     "status": "completed"
    },
    "tags": []
   },
   "outputs": [],
   "source": [
    "header_row = table.find('tr')\n",
    "titles = [header.text.strip() for header in header_row.find_all('td')]\n"
   ]
  },
  {
   "cell_type": "code",
   "execution_count": 5,
   "id": "9d039bbf",
   "metadata": {
    "execution": {
     "iopub.execute_input": "2024-05-25T21:32:42.162096Z",
     "iopub.status.busy": "2024-05-25T21:32:42.161456Z",
     "iopub.status.idle": "2024-05-25T21:32:42.169897Z",
     "shell.execute_reply": "2024-05-25T21:32:42.168647Z"
    },
    "papermill": {
     "duration": 0.016026,
     "end_time": "2024-05-25T21:32:42.173007",
     "exception": false,
     "start_time": "2024-05-25T21:32:42.156981",
     "status": "completed"
    },
    "tags": []
   },
   "outputs": [],
   "source": [
    "df = pd.DataFrame(columns=titles)"
   ]
  },
  {
   "cell_type": "code",
   "execution_count": 6,
   "id": "cb477144",
   "metadata": {
    "execution": {
     "iopub.execute_input": "2024-05-25T21:32:42.180760Z",
     "iopub.status.busy": "2024-05-25T21:32:42.180379Z",
     "iopub.status.idle": "2024-05-25T21:32:42.201169Z",
     "shell.execute_reply": "2024-05-25T21:32:42.199737Z"
    },
    "papermill": {
     "duration": 0.028164,
     "end_time": "2024-05-25T21:32:42.204208",
     "exception": false,
     "start_time": "2024-05-25T21:32:42.176044",
     "status": "completed"
    },
    "tags": []
   },
   "outputs": [],
   "source": [
    "rows = table.find_all('tr')[1:]  # Skip the header row\n",
    "for row in rows:\n",
    "    data = row.find_all(\"td\")\n",
    "    row_data = [td.text.strip() for td in data]\n",
    "    \n",
    "    while len(row_data) < len(df.columns):\n",
    "        row_data.append(\"\")\n",
    "    row_data = row_data[:len(df.columns)]\n",
    "    df.loc[len(df)] = row_data"
   ]
  },
  {
   "cell_type": "code",
   "execution_count": 7,
   "id": "b6be3b2b",
   "metadata": {
    "execution": {
     "iopub.execute_input": "2024-05-25T21:32:42.211867Z",
     "iopub.status.busy": "2024-05-25T21:32:42.211400Z",
     "iopub.status.idle": "2024-05-25T21:32:42.231974Z",
     "shell.execute_reply": "2024-05-25T21:32:42.231040Z"
    },
    "papermill": {
     "duration": 0.027142,
     "end_time": "2024-05-25T21:32:42.234204",
     "exception": false,
     "start_time": "2024-05-25T21:32:42.207062",
     "status": "completed"
    },
    "tags": []
   },
   "outputs": [
    {
     "data": {
      "text/html": [
       "<div>\n",
       "<style scoped>\n",
       "    .dataframe tbody tr th:only-of-type {\n",
       "        vertical-align: middle;\n",
       "    }\n",
       "\n",
       "    .dataframe tbody tr th {\n",
       "        vertical-align: top;\n",
       "    }\n",
       "\n",
       "    .dataframe thead th {\n",
       "        text-align: right;\n",
       "    }\n",
       "</style>\n",
       "<table border=\"1\" class=\"dataframe\">\n",
       "  <thead>\n",
       "    <tr style=\"text-align: right;\">\n",
       "      <th></th>\n",
       "      <th>Positions</th>\n",
       "      <th>Starting Salary</th>\n",
       "      <th>Grade No.</th>\n",
       "      <th>Grade Rate</th>\n",
       "      <th>Revised Salary</th>\n",
       "    </tr>\n",
       "  </thead>\n",
       "  <tbody>\n",
       "    <tr>\n",
       "      <th>0</th>\n",
       "      <td>मुख्य सचिव (Chief Secretary)</td>\n",
       "      <td>NPR 77,211</td>\n",
       "      <td>2</td>\n",
       "      <td>NPR 2574</td>\n",
       "      <td>Rs. 82,359</td>\n",
       "    </tr>\n",
       "    <tr>\n",
       "      <th>1</th>\n",
       "      <td>रा.प. विशिष्ट (Secretary)</td>\n",
       "      <td>Rs. 72,082</td>\n",
       "      <td>2</td>\n",
       "      <td>NPR 2403</td>\n",
       "      <td>NPR 76,888</td>\n",
       "    </tr>\n",
       "    <tr>\n",
       "      <th>2</th>\n",
       "      <td>अ.सचिव (पेन्सन प्रयोजन)</td>\n",
       "      <td>Rs. 60,490</td>\n",
       "      <td>-</td>\n",
       "      <td>-</td>\n",
       "      <td>NPR 60,490</td>\n",
       "    </tr>\n",
       "    <tr>\n",
       "      <th>3</th>\n",
       "      <td>रा.प. प्रथम (Joint Secretary)</td>\n",
       "      <td>NPR 56,787</td>\n",
       "      <td>7</td>\n",
       "      <td>NPR 1,893</td>\n",
       "      <td>NPR 70,038</td>\n",
       "    </tr>\n",
       "    <tr>\n",
       "      <th>4</th>\n",
       "      <td>रा.प. द्वितीय (Deputy Secretary)</td>\n",
       "      <td>NPR 48,737</td>\n",
       "      <td>8</td>\n",
       "      <td>NPR 1,625</td>\n",
       "      <td>NPR 61,737</td>\n",
       "    </tr>\n",
       "    <tr>\n",
       "      <th>5</th>\n",
       "      <td>रा.प. तृतीय (Section Officer)</td>\n",
       "      <td>NPR 53,689</td>\n",
       "      <td>8</td>\n",
       "      <td>NPR 1,456</td>\n",
       "      <td>NPR 55,337</td>\n",
       "    </tr>\n",
       "  </tbody>\n",
       "</table>\n",
       "</div>"
      ],
      "text/plain": [
       "                          Positions Starting Salary Grade No. Grade Rate  \\\n",
       "0      मुख्य सचिव (Chief Secretary)      NPR 77,211         2   NPR 2574   \n",
       "1         रा.प. विशिष्ट (Secretary)      Rs. 72,082         2   NPR 2403   \n",
       "2           अ.सचिव (पेन्सन प्रयोजन)      Rs. 60,490         -          -   \n",
       "3     रा.प. प्रथम (Joint Secretary)      NPR 56,787         7  NPR 1,893   \n",
       "4  रा.प. द्वितीय (Deputy Secretary)      NPR 48,737         8  NPR 1,625   \n",
       "5     रा.प. तृतीय (Section Officer)      NPR 53,689         8  NPR 1,456   \n",
       "\n",
       "  Revised Salary  \n",
       "0     Rs. 82,359  \n",
       "1     NPR 76,888  \n",
       "2     NPR 60,490  \n",
       "3     NPR 70,038  \n",
       "4     NPR 61,737  \n",
       "5     NPR 55,337  "
      ]
     },
     "execution_count": 7,
     "metadata": {},
     "output_type": "execute_result"
    }
   ],
   "source": [
    "df"
   ]
  },
  {
   "cell_type": "code",
   "execution_count": 8,
   "id": "48663a09",
   "metadata": {
    "execution": {
     "iopub.execute_input": "2024-05-25T21:32:42.242510Z",
     "iopub.status.busy": "2024-05-25T21:32:42.241831Z",
     "iopub.status.idle": "2024-05-25T21:32:42.251809Z",
     "shell.execute_reply": "2024-05-25T21:32:42.250568Z"
    },
    "papermill": {
     "duration": 0.017115,
     "end_time": "2024-05-25T21:32:42.254400",
     "exception": false,
     "start_time": "2024-05-25T21:32:42.237285",
     "status": "completed"
    },
    "tags": []
   },
   "outputs": [],
   "source": [
    "df.to_csv(\"Nepal government officials salary.csv\", index = False)"
   ]
  }
 ],
 "metadata": {
  "kaggle": {
   "accelerator": "none",
   "dataSources": [],
   "dockerImageVersionId": 30698,
   "isGpuEnabled": false,
   "isInternetEnabled": true,
   "language": "python",
   "sourceType": "notebook"
  },
  "kernelspec": {
   "display_name": "Python 3",
   "language": "python",
   "name": "python3"
  },
  "language_info": {
   "codemirror_mode": {
    "name": "ipython",
    "version": 3
   },
   "file_extension": ".py",
   "mimetype": "text/x-python",
   "name": "python",
   "nbconvert_exporter": "python",
   "pygments_lexer": "ipython3",
   "version": "3.10.13"
  },
  "papermill": {
   "default_parameters": {},
   "duration": 6.274398,
   "end_time": "2024-05-25T21:32:42.778008",
   "environment_variables": {},
   "exception": null,
   "input_path": "__notebook__.ipynb",
   "output_path": "__notebook__.ipynb",
   "parameters": {},
   "start_time": "2024-05-25T21:32:36.503610",
   "version": "2.5.0"
  }
 },
 "nbformat": 4,
 "nbformat_minor": 5
}
